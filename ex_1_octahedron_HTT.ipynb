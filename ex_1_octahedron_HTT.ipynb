{
 "cells": [
  {
   "cell_type": "code",
   "execution_count": 1,
   "metadata": {
    "collapsed": false,
    "deletable": true,
    "editable": true
   },
   "outputs": [
    {
     "data": {
      "application/javascript": [
       "require.undef(\"nbextensions/vpython_libraries/glow.min\");"
      ],
      "text/plain": [
       "<IPython.core.display.Javascript object>"
      ]
     },
     "metadata": {},
     "output_type": "display_data"
    },
    {
     "data": {
      "application/javascript": [
       "require.undef(\"nbextensions/vpython_libraries/glowcomm\");"
      ],
      "text/plain": [
       "<IPython.core.display.Javascript object>"
      ]
     },
     "metadata": {},
     "output_type": "display_data"
    },
    {
     "data": {
      "application/javascript": [
       "require.undef(\"nbextensions/vpython_libraries/jquery-ui.custom.min\");"
      ],
      "text/plain": [
       "<IPython.core.display.Javascript object>"
      ]
     },
     "metadata": {},
     "output_type": "display_data"
    },
    {
     "data": {
      "application/javascript": [
       "require([\"nbextensions/vpython_libraries/glow.min\"], function(){console.log(\"GLOW LOADED\");})"
      ],
      "text/plain": [
       "<IPython.core.display.Javascript object>"
      ]
     },
     "metadata": {},
     "output_type": "display_data"
    },
    {
     "data": {
      "application/javascript": [
       "require([\"nbextensions/vpython_libraries/glowcomm\"], function(){console.log(\"GLOWCOMM LOADED\");})"
      ],
      "text/plain": [
       "<IPython.core.display.Javascript object>"
      ]
     },
     "metadata": {},
     "output_type": "display_data"
    },
    {
     "data": {
      "application/javascript": [
       "require([\"nbextensions/vpython_libraries/jquery-ui.custom.min\"], function(){console.log(\"JQUERY LOADED\");})"
      ],
      "text/plain": [
       "<IPython.core.display.Javascript object>"
      ]
     },
     "metadata": {},
     "output_type": "display_data"
    },
    {
     "data": {
      "text/html": [
       "<div id=\"glowscript\" class=\"glowscript\"></div>"
      ],
      "text/plain": [
       "<IPython.core.display.HTML object>"
      ]
     },
     "metadata": {},
     "output_type": "display_data"
    },
    {
     "data": {
      "application/javascript": [
       "window.__context = { glowscript_container: $(\"#glowscript\").removeAttr(\"id\")}"
      ],
      "text/plain": [
       "<IPython.core.display.Javascript object>"
      ]
     },
     "metadata": {},
     "output_type": "display_data"
    },
    {
     "data": {
      "text/html": [
       "<div id=\"glowscript\" class=\"glowscript\"></div>"
      ],
      "text/plain": [
       "<IPython.core.display.HTML object>"
      ]
     },
     "metadata": {},
     "output_type": "display_data"
    },
    {
     "data": {
      "application/javascript": [
       "window.__context = { glowscript_container: $(\"#glowscript\").removeAttr(\"id\")}"
      ],
      "text/plain": [
       "<IPython.core.display.Javascript object>"
      ]
     },
     "metadata": {},
     "output_type": "display_data"
    }
   ],
   "source": [
    "import numpy as np\n",
    "from vpython import *\n",
    "import matplotlib as mpl\n",
    "\n",
    "# Place atoms\n",
    "c_a = 4.8598 / 3.78 \n",
    "radius_O =0.12\n",
    "radius_Cu =0.17\n",
    "\n",
    "positions_O_HHT = [[0, 0, -c_a/2], \n",
    "                      [-0.5, 0., 0],\n",
    "                      [0, 0.5, 0],\n",
    "                      [0.5, 0., 0],\n",
    "                      [0., -0.5, 0],\n",
    "                      [0, 0, c_a/2]]\n",
    "\n",
    "position_Cu = vector(0, 0, 0)\n",
    "\n",
    "# ATOM COLORS\n",
    "color_list = [mpl.colors.to_rgb(c['color']) for c in mpl.rcParams['axes.prop_cycle']]\n",
    "color_O = vector(*color_list[0])\n",
    "color_Cu = vector(*color_list[1])\n",
    "\n",
    "# Rotate the octahedron\n",
    "theta = 0.\n",
    "u = np.array([0., 1., 0.])\n",
    "\n",
    "def sin(angle):\n",
    "    \"\"\" sin in degrees\"\"\"\n",
    "    return np.sin(angle * np.pi/180.)\n",
    "\n",
    "def cos(angle):\n",
    "    \"\"\" cos in degrees\"\"\"\n",
    "    return np.cos(angle * np.pi/180.)\n",
    "\n",
    "R = np.array(\n",
    "    [[cos(theta) + u[0]**2*(1-cos(theta)), \n",
    "      u[0]*u[1]*(1-cos(theta)) - u[2]*sin(theta),\n",
    "      u[0]*u[2]*(1-cos(theta)) + u[1]*sin(theta)],\n",
    "     [u[1]*u[0]*(1-cos(theta)) + u[2]*sin(theta),\n",
    "      cos(theta) + u[1]**2*(1-cos(theta)),\n",
    "      u[1]*u[2]*(1-cos(theta)) - u[0]*sin(theta)],\n",
    "     [u[2]*u[0]*(1-cos(theta)) - u[1]*sin(theta),\n",
    "      u[2]*u[1]*(1-cos(theta)) + u[0]*sin(theta),\n",
    "      cos(theta) + u[2]**2*(1-cos(theta))]]\n",
    "     )\n",
    "\n",
    "positions_O = [R.dot(np.array(V)) for V in positions_O_HHT]\n",
    "\n",
    "\n",
    "# Setup canvas\n",
    "canvas(width=500,height=800, \n",
    "       forward=vector(-0.4,-0.6,-.2), up=vector(0, 0, 1),\n",
    "       background=color.white, fov=np.pi/6,\n",
    "      scale=0.1)\n",
    "\n",
    "\n",
    "\n",
    "for pos in positions_O:\n",
    "    sphere(pos=vector(pos[0], pos[1], pos[2]), radius=radius_O, color=color_O)\n",
    "\n",
    "sphere(pos=position_Cu, radius=radius_Cu, color=color_Cu)\n",
    "\n",
    "def O_vert(ind):\n",
    "    pos = positions_O[ind].tolist()\n",
    "    return vertex(pos=vector(*pos), opacity=0.5, color=vector(0.8, 0.8, 0.8))\n",
    "\n",
    "def line(start, end):\n",
    "    pos = vector(*start.tolist())\n",
    "    ax_vec = end-start\n",
    "    axis = vector(*ax_vec.tolist())\n",
    "    cylinder(pos=pos, axis=axis, radius=0.02, color=vector(0.7, 0.7, 0.7))\n",
    "\n",
    "# Tranparency\n",
    "#quad(v0=O_vert(0), v1=O_vert(1), v2=O_vert(2), v3=O_vert(0))\n",
    "#quad(v0=O_vert(0), v1=O_vert(2), v2=O_vert(3), v3=O_vert(0))\n",
    "#quad(v0=O_vert(0), v1=O_vert(3), v2=O_vert(4), v3=O_vert(0))\n",
    "#quad(v0=O_vert(0), v1=O_vert(4), v2=O_vert(1), v3=O_vert(0))\n",
    "#\n",
    "#quad(v0=O_vert(-1), v1=O_vert(1), v2=O_vert(2), v3=O_vert(-1))\n",
    "#quad(v0=O_vert(-1), v1=O_vert(2), v2=O_vert(3), v3=O_vert(-1))\n",
    "#quad(v0=O_vert(-1), v1=O_vert(3), v2=O_vert(4), v3=O_vert(-1))\n",
    "#quad(v0=O_vert(-1), v1=O_vert(4), v2=O_vert(1), v3=O_vert(-1))\n",
    "#\n",
    "\n",
    "# Edges of octahedron \n",
    "line(positions_O[1], positions_O[2])\n",
    "line(positions_O[2], positions_O[3])\n",
    "line(positions_O[3], positions_O[4])\n",
    "line(positions_O[4], positions_O[1])\n",
    "\n",
    "line(positions_O[0], positions_O[1])\n",
    "line(positions_O[0], positions_O[2])\n",
    "line(positions_O[0], positions_O[3])\n",
    "line(positions_O[0], positions_O[4])\n",
    "line(positions_O[-1], positions_O[1])\n",
    "line(positions_O[-1], positions_O[2])\n",
    "line(positions_O[-1], positions_O[3])\n",
    "line(positions_O[-1], positions_O[4])\n",
    "\n",
    "## add arrows\n",
    "for pos_i, pos_f in zip(positions_O_HHT, positions_O):\n",
    "    diff = np.array(pos_f) - np.array(pos_i)\n",
    "    arrow(pos=vector(pos_f[0], pos_f[1], pos_f[2]),\n",
    "         axis=3*vector(diff[0], diff[1], diff[2]),\n",
    "         color=vector(0.4, 0.4, 0.4))\n"
   ]
  }
 ],
 "metadata": {
  "kernelspec": {
   "display_name": "Python 3",
   "language": "python",
   "name": "python3"
  },
  "language_info": {
   "codemirror_mode": {
    "name": "ipython",
    "version": 3
   },
   "file_extension": ".py",
   "mimetype": "text/x-python",
   "name": "python",
   "nbconvert_exporter": "python",
   "pygments_lexer": "ipython3",
   "version": "3.6.1"
  }
 },
 "nbformat": 4,
 "nbformat_minor": 2
}
